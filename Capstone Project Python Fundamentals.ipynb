{
 "cells": [
  {
   "cell_type": "code",
   "execution_count": 10,
   "id": "06d80430-9bb1-4950-859b-52c4f8ec21fe",
   "metadata": {},
   "outputs": [],
   "source": [
    "#Task 1 -There are three different tables as given above. Please make three dataframe in python and save them as three .csv files. From Task 2 to Task 10, use the saved .csv files only.\n",
    "\n",
    "# Import libraries\n",
    "import pandas as pd\n",
    "import numpy as np"
   ]
  },
  {
   "cell_type": "code",
   "execution_count": 12,
   "id": "1a8b32ec-84ad-433b-ace3-416849fba952",
   "metadata": {},
   "outputs": [],
   "source": [
    "\n",
    "# Define a dictionary to represent the project data with columns:\n",
    "# 'ID': Unique identifier for each project or employee involved\n",
    "# 'Project': Name of the project\n",
    "# 'Cost': Cost associated with each project (includes some missing values represented as np.nan)\n",
    "# 'Status': Status of the project (e.g., Finished, Ongoing, Failed)\n",
    "project_data = {\n",
    "    'ID': ['A001', 'A002', 'A003', 'A004', 'A005', 'A002', 'A005', 'A003', 'A001', 'A003', 'A004', 'A002', 'A003', 'A005'],\n",
    "    'Project': ['Project 1', 'Project 2', 'Project 3', 'Project 4', 'Project 5', 'Project 6', 'Project 7', 'Project 8', 'Project 9', 'Project 10', 'Project 11', 'Project 12', 'Project 13', 'Project 14'],\n",
    "    'Cost': [1002000, 2000000, 4500000, 5500000, np.nan, 680000, 400000, 350000, np.nan, 300000, 2000000, 1000000, 3000000, 200000],\n",
    "    'Status': ['Finished', 'Ongoing', 'Finished', 'Ongoing', 'Finished', 'Failed', 'Finished', 'Failed', 'Ongoing', 'Finished', 'Failed', 'Ongoing', 'Finished', 'Finished']\n",
    "}\n",
    "project_df = pd.DataFrame(project_data)\n",
    "project_df.to_csv('project.csv', index=False)"
   ]
  },
  {
   "cell_type": "code",
   "execution_count": 14,
   "id": "0c07c7ca-7e66-4a3f-b34b-b7893dc27dbf",
   "metadata": {},
   "outputs": [],
   "source": [
    "# Define a dictionary to represent the employee data with columns:\n",
    "# 'ID': Unique identifier for each employee\n",
    "# 'Name': Full name of the employee\n",
    "# 'Gender': Gender of the employee (e.g., 'M' for male, 'F' for female)\n",
    "# 'City': City where the employee resides\n",
    "# 'Age': Age of the employee\n",
    "\n",
    "employee_data = {\n",
    "    'ID': ['A001', 'A002', 'A003', 'A004', 'A005'],\n",
    "    'Name': ['John Alter', 'Alice Luxumberg', 'Tom Sabestine', 'Nina Adgra', 'Amy Johny'],\n",
    "    'Gender': ['M', 'F', 'M', 'F', 'F'],\n",
    "    'City': ['Paris', 'London', 'Berlin', 'New York', 'Madrid'],\n",
    "    'Age': [25, 27, 29, 31, 30]\n",
    "}\n",
    "employee_df = pd.DataFrame(employee_data)\n",
    "employee_df.to_csv('employee.csv', index=False)\n"
   ]
  },
  {
   "cell_type": "code",
   "execution_count": 16,
   "id": "88e47439-b83b-49d3-86a2-12867a349c3a",
   "metadata": {},
   "outputs": [],
   "source": [
    "seniority_data = {\n",
    "    'ID': ['A001', 'A002', 'A003', 'A004', 'A005'],\n",
    "    'Designation Level': [2, 2, 3, 3, 3]\n",
    "}\n",
    "seniority_df = pd.DataFrame(seniority_data)\n",
    "seniority_df.to_csv('seniority.csv', index=False)"
   ]
  },
  {
   "cell_type": "code",
   "execution_count": 18,
   "id": "c51657d1-a27f-4cf9-9d1d-898e334da70e",
   "metadata": {},
   "outputs": [
    {
     "name": "stdout",
     "output_type": "stream",
     "text": [
      "['.ipynb_checkpoints', 'Assignment - Python fundamentals (1).ipynb', 'Assignment - Python fundamentals.ipynb', 'Basic Python Fundamentals - 1.ipynb', 'Basic Python Fundamentals -2 .ipynb', 'Capstone Project Python Fundamentals.ipynb', 'Conditional and control flow.ipynb', 'Data Types.ipynb', 'Day1 .ipynb', 'employee.csv', 'employees_with_o.csv', 'final.csv', 'List _ Tuple.ipynb', 'Operators.ipynb', 'project.csv', 'Reading material', 'seniority.csv', 'Set _ Dictionary.ipynb', 'total_proj_cost.csv', 'Variables.ipynb']\n",
      "ID,Project,Cost,Status\n",
      "A001,Project 1,1002000.0,Finished\n",
      "A002,Project 2,2000000.0,Ongoing\n",
      "A003,Project 3,4500000.0,Finished\n",
      "A004,Project 4,5500000.0,Ongoing\n",
      "A005,Project 5,,Finished\n",
      "A002,Project 6,680000.0,Failed\n",
      "A005,Project 7,400000.0,Finished\n",
      "A003,Project 8,350000.0,Failed\n",
      "A001,Project 9,,Ongoing\n",
      "A003,Project 10,300000.0,Finished\n",
      "A004,Project 11,2000000.0,Failed\n",
      "A002,Project 12,1000000.0,Ongoing\n",
      "A003,Project 13,3000000.0,Finished\n",
      "A005,Project 14,200000.0,Finished\n",
      "\n"
     ]
    }
   ],
   "source": [
    "import os\n",
    "\n",
    "# List files in the current directory\n",
    "print(os.listdir())\n",
    "\n",
    "# Verify the contents of one CSV file\n",
    "with open('project.csv', 'r') as file:\n",
    "    print(file.read())"
   ]
  },
  {
   "cell_type": "code",
   "execution_count": 20,
   "id": "8247a67b-b0af-495e-a5c6-2ae1f2be6762",
   "metadata": {},
   "outputs": [
    {
     "name": "stdout",
     "output_type": "stream",
     "text": [
      "ID,Project,Cost,Status\n",
      "A001,Project 1,1002000.0,Finished\n",
      "A002,Project 2,2000000.0,Ongoing\n",
      "A003,Project 3,4500000.0,Finished\n",
      "A004,Project 4,5500000.0,Ongoing\n",
      "A005,Project 5,3250500.0,Finished\n",
      "A002,Project 6,680000.0,Failed\n",
      "A005,Project 7,400000.0,Finished\n",
      "A003,Project 8,350000.0,Failed\n",
      "A001,Project 9,2210312.5,Ongoing\n",
      "A003,Project 10,300000.0,Finished\n",
      "A004,Project 11,2000000.0,Failed\n",
      "A002,Project 12,1000000.0,Ongoing\n",
      "A003,Project 13,3000000.0,Finished\n",
      "A005,Project 14,200000.0,Finished\n",
      "\n"
     ]
    }
   ],
   "source": [
    "#Task 2 - Fill Missing \"Cost\" Values\n",
    "\n",
    "# Initialize running sum and count variables\n",
    "running_sum, count = 0, 0\n",
    "\n",
    "# Iterate through each row of the 'Cost' column\n",
    "for i in range(len(project_df['Cost'])):\n",
    "    # Check if the current 'Cost' value is NaN (missing)\n",
    "    if pd.isna(project_df.loc[i, 'Cost']):\n",
    "        # Replace the missing value with the running average\n",
    "        project_df.loc[i, 'Cost'] = running_sum / count\n",
    "    # Update the running sum with the current 'Cost' value\n",
    "    running_sum += project_df.loc[i, 'Cost']\n",
    "    # Increment the count of valid entries\n",
    "    count += 1\n",
    "\n",
    "# Save the updated DataFrame to a CSV file\n",
    "project_df.to_csv('project.csv', index=False)\n",
    "\n",
    "# Open and read the content of the updated CSV file to verify changes\n",
    "with open('project.csv', 'r') as file:\n",
    "    # Print the content of the file to view the updated data\n",
    "    print(file.read())"
   ]
  },
  {
   "cell_type": "code",
   "execution_count": 22,
   "id": "43c94e44-63b3-4cd5-8a6f-514f4de1ea30",
   "metadata": {},
   "outputs": [
    {
     "name": "stdout",
     "output_type": "stream",
     "text": [
      "Updated Employee DataFrame (Name Split into First Name and Last Name):\n",
      "     ID             Name Gender      City  Age\n",
      "0  A001       John Alter      M     Paris   25\n",
      "1  A002  Alice Luxumberg      F    London   27\n",
      "2  A003    Tom Sabestine      M    Berlin   29\n",
      "3  A004       Nina Adgra      F  New York   31\n",
      "4  A005        Amy Johny      F    Madrid   30\n"
     ]
    }
   ],
   "source": [
    "# Task 3 - Split the name column in the Employee dataframe into two new columns “First Name”,and “LastName” and remove the older “name” column.\n",
    "\n",
    "# Load updated Employee DataFrame\n",
    "employee_df = pd.read_csv('employee.csv')\n",
    "\n",
    "# Display the updated DataFrame\n",
    "print(\"Updated Employee DataFrame (Name Split into First Name and Last Name):\")\n",
    "print(employee_df)"
   ]
  },
  {
   "cell_type": "code",
   "execution_count": 24,
   "id": "ab5374c7-84bc-4315-897e-fac2f5471798",
   "metadata": {},
   "outputs": [
    {
     "name": "stdout",
     "output_type": "stream",
     "text": [
      "Final DataFrame (All Tables Joined):\n",
      "      ID     Project       Cost    Status      City  Age  First Name  \\\n",
      "0   A001   Project 1  1002000.0  Finished     Paris   25    Mr. John   \n",
      "1   A002   Project 2  2000000.0   Ongoing    London   27  Mrs. Alice   \n",
      "2   A003   Project 3  4500000.0  Finished    Berlin   29     Mr. Tom   \n",
      "3   A004   Project 4  5500000.0   Ongoing  New York   31   Mrs. Nina   \n",
      "4   A005   Project 5  3250500.0  Finished    Madrid   30    Mrs. Amy   \n",
      "5   A002   Project 6   680000.0    Failed    London   27  Mrs. Alice   \n",
      "6   A005   Project 7   400000.0  Finished    Madrid   30    Mrs. Amy   \n",
      "7   A003   Project 8   350000.0    Failed    Berlin   29     Mr. Tom   \n",
      "8   A001   Project 9  2210312.5   Ongoing     Paris   25    Mr. John   \n",
      "9   A003  Project 10   300000.0  Finished    Berlin   29     Mr. Tom   \n",
      "10  A004  Project 11  2000000.0    Failed  New York   31   Mrs. Nina   \n",
      "11  A002  Project 12  1000000.0   Ongoing    London   27  Mrs. Alice   \n",
      "12  A003  Project 13  3000000.0  Finished    Berlin   29     Mr. Tom   \n",
      "13  A005  Project 14   200000.0  Finished    Madrid   30    Mrs. Amy   \n",
      "\n",
      "    Last Name  Designation Level     Bonus  \n",
      "0       Alter                  2   50100.0  \n",
      "1   Luxumberg                  2       0.0  \n",
      "2   Sabestine                  3  225000.0  \n",
      "3       Adgra                  0       0.0  \n",
      "4       Johny                  0  162525.0  \n",
      "5   Luxumberg                  3       0.0  \n",
      "6       Johny                  0   20000.0  \n",
      "7   Sabestine                  4       0.0  \n",
      "8       Alter                  2       0.0  \n",
      "9   Sabestine                  3   15000.0  \n",
      "10      Adgra                  1       0.0  \n",
      "11  Luxumberg                  2       0.0  \n",
      "12  Sabestine                  3  150000.0  \n",
      "13      Johny                  0   10000.0  \n"
     ]
    }
   ],
   "source": [
    "#Task 4 -Join all three dataframes in one single dataframe. Name it “Final”\n",
    "\n",
    "# Load the Final DataFrame\n",
    "final_df = pd.read_csv('final.csv')\n",
    "\n",
    "# Display the DataFrame\n",
    "print(\"Final DataFrame (All Tables Joined):\")\n",
    "print(final_df)"
   ]
  },
  {
   "cell_type": "code",
   "execution_count": 26,
   "id": "d3fbec69-b3ec-4244-a63f-560a23fe814b",
   "metadata": {},
   "outputs": [
    {
     "name": "stdout",
     "output_type": "stream",
     "text": [
      "     ID    Project       Cost    Status     Bonus\n",
      "0  A001  Project 1  1002000.0  Finished   50100.0\n",
      "1  A002  Project 2  2000000.0   Ongoing       0.0\n",
      "2  A003  Project 3  4500000.0  Finished  225000.0\n",
      "3  A004  Project 4  5500000.0   Ongoing       0.0\n",
      "4  A005  Project 5  3250500.0  Finished  162525.0\n"
     ]
    }
   ],
   "source": [
    "#Task 5 -Add a new bonus column in the Final dataframe. Give a 5% bonus concerning project cost only to employees who have finished the projects.\n",
    "\n",
    "final_df['Bonus'] = final_df.apply(lambda row: 0.05 * row['Cost'] if row['Status'] == 'Finished' else 0, axis=1)\n",
    "final_df.to_csv('final.csv', index=False)\n",
    "\n",
    "# Display the updated DataFrame to see the 'Bonus' column\n",
    "print(final_df[['ID', 'Project', 'Cost', 'Status', 'Bonus']].head())\n"
   ]
  },
  {
   "cell_type": "code",
   "execution_count": 42,
   "id": "24f2fc94-0da0-4b15-a4b0-0eddd8457800",
   "metadata": {
    "jupyter": {
     "source_hidden": true
    }
   },
   "outputs": [
    {
     "name": "stdout",
     "output_type": "stream",
     "text": [
      "      ID     Project       Cost    Status      City  Age  First Name  \\\n",
      "0   A001   Project 1  1002000.0  Finished     Paris   25    Mr. John   \n",
      "1   A002   Project 2  2000000.0   Ongoing    London   27  Mrs. Alice   \n",
      "2   A003   Project 3  4500000.0  Finished    Berlin   29     Mr. Tom   \n",
      "3   A004   Project 4  5500000.0   Ongoing  New York   31   Mrs. Nina   \n",
      "4   A005   Project 5  3250500.0  Finished    Madrid   30    Mrs. Amy   \n",
      "6   A005   Project 7   400000.0  Finished    Madrid   30    Mrs. Amy   \n",
      "8   A001   Project 9  2210312.5   Ongoing     Paris   25    Mr. John   \n",
      "9   A003  Project 10   300000.0  Finished    Berlin   29     Mr. Tom   \n",
      "10  A004  Project 11  2000000.0    Failed  New York   31   Mrs. Nina   \n",
      "11  A002  Project 12  1000000.0   Ongoing    London   27  Mrs. Alice   \n",
      "12  A003  Project 13  3000000.0  Finished    Berlin   29     Mr. Tom   \n",
      "13  A005  Project 14   200000.0  Finished    Madrid   30    Mrs. Amy   \n",
      "\n",
      "    Last Name  Designation Level     Bonus  \n",
      "0       Alter                  2   50100.0  \n",
      "1   Luxumberg                  2       0.0  \n",
      "2   Sabestine                  3  225000.0  \n",
      "3       Adgra                 -1       0.0  \n",
      "4       Johny                 -1  162525.0  \n",
      "6       Johny                 -1   20000.0  \n",
      "8       Alter                  2       0.0  \n",
      "9   Sabestine                  3   15000.0  \n",
      "10      Adgra                  4       0.0  \n",
      "11  Luxumberg                  2       0.0  \n",
      "12  Sabestine                  3  150000.0  \n",
      "13      Johny                 -1   10000.0  \n"
     ]
    }
   ],
   "source": [
    "#Task 6 Demote the designation level by 1, whose projects have status “fail”. Delete the employees record whose designation level is above 4.\n",
    "\n",
    "# Demote designation level for failed projects\n",
    "final_df.loc[final_df['Status'] == 'Failed', 'Designation Level'] += 1\n",
    "\n",
    "# Remove records with designation level > 4\n",
    "final_df = final_df[final_df['Designation Level'] <= 4]\n",
    "\n",
    "# Save and display the updated Final DataFrame\n",
    "final_df.to_csv('final.csv', index=False)\n",
    "print(final_df)\n"
   ]
  },
  {
   "cell_type": "code",
   "execution_count": 44,
   "id": "317a6c97-cffd-4300-884d-2c75e5cece93",
   "metadata": {},
   "outputs": [
    {
     "name": "stdout",
     "output_type": "stream",
     "text": [
      "The 'Gender' column is missing. Recreate the final_df DataFrame.\n"
     ]
    }
   ],
   "source": [
    "#Task 7 Add “Mr.” and “Mrs.” to the first name column and drop the gender column.\n",
    "\n",
    "# Check if the 'Gender' column exists in the DataFrame to avoid errors.\n",
    "if 'Gender' in final_df.columns:\n",
    "    # Update the 'First Name' column by applying a lambda function to add 'Mr.' for male and 'Mrs.' for female.\n",
    "    final_df['First Name'] = final_df.apply(\n",
    "        lambda row: ('Mr. ' if row['Gender'] == 'M' else 'Mrs. ') + row['First Name'], axis=1\n",
    "    )\n",
    "    \n",
    "    # Drop the 'Gender' column from the DataFrame since it's no longer needed.\n",
    "    final_df.drop('Gender', axis=1, inplace=True)\n",
    "    \n",
    "    # Save the updated DataFrame to the CSV file 'final.csv', excluding the index column.\n",
    "    final_df.to_csv('final.csv', index=False)\n",
    "    \n",
    "    # Print the updated DataFrame to verify the changes.\n",
    "    print(final_df)\n",
    "else:\n",
    "    # If the 'Gender' column is missing, display a message to recreate the DataFrame.\n",
    "    print(\"The 'Gender' column is missing. Recreate the final_df DataFrame.\")\n"
   ]
  },
  {
   "cell_type": "code",
   "execution_count": 46,
   "id": "f47255a0-761d-438b-8b27-fe5c395ca476",
   "metadata": {},
   "outputs": [
    {
     "name": "stdout",
     "output_type": "stream",
     "text": [
      "      ID     Project       Cost    Status      City  Age  First Name  \\\n",
      "0   A001   Project 1  1002000.0  Finished     Paris   25    Mr. John   \n",
      "1   A002   Project 2  2000000.0   Ongoing    London   27  Mrs. Alice   \n",
      "2   A003   Project 3  4500000.0  Finished    Berlin   29     Mr. Tom   \n",
      "3   A004   Project 4  5500000.0   Ongoing  New York   31   Mrs. Nina   \n",
      "4   A005   Project 5  3250500.0  Finished    Madrid   30    Mrs. Amy   \n",
      "6   A005   Project 7   400000.0  Finished    Madrid   30    Mrs. Amy   \n",
      "8   A001   Project 9  2210312.5   Ongoing     Paris   25    Mr. John   \n",
      "9   A003  Project 10   300000.0  Finished    Berlin   29     Mr. Tom   \n",
      "10  A004  Project 11  2000000.0    Failed  New York   31   Mrs. Nina   \n",
      "11  A002  Project 12  1000000.0   Ongoing    London   27  Mrs. Alice   \n",
      "12  A003  Project 13  3000000.0  Finished    Berlin   29     Mr. Tom   \n",
      "13  A005  Project 14   200000.0  Finished    Madrid   30    Mrs. Amy   \n",
      "\n",
      "    Last Name  Designation Level     Bonus  \n",
      "0       Alter                  2   50100.0  \n",
      "1   Luxumberg                  2       0.0  \n",
      "2   Sabestine                  3  225000.0  \n",
      "3       Adgra                 -2       0.0  \n",
      "4       Johny                 -2  162525.0  \n",
      "6       Johny                 -2   20000.0  \n",
      "8       Alter                  2       0.0  \n",
      "9   Sabestine                  3   15000.0  \n",
      "10      Adgra                  3       0.0  \n",
      "11  Luxumberg                  2       0.0  \n",
      "12  Sabestine                  3  150000.0  \n",
      "13      Johny                 -2   10000.0  \n"
     ]
    }
   ],
   "source": [
    "#Task 8 Promote designation level by 1 for the employees whose age is more than 29 years using IF condition.\n",
    "# Promote designation level for employees aged > 29\n",
    "final_df.loc[final_df['Age'] > 29, 'Designation Level'] -= 1\n",
    "\n",
    "# Save and display the updated Final DataFrame\n",
    "final_df.to_csv('final.csv', index=False)\n",
    "print(final_df)"
   ]
  },
  {
   "cell_type": "code",
   "execution_count": 48,
   "id": "09b29636-db2b-4a5c-b693-8af3873489b2",
   "metadata": {},
   "outputs": [
    {
     "name": "stdout",
     "output_type": "stream",
     "text": [
      "     ID  First Name  Total Cost\n",
      "0  A001    Mr. John   3212312.5\n",
      "1  A002  Mrs. Alice   3000000.0\n",
      "2  A003     Mr. Tom   7800000.0\n",
      "3  A004   Mrs. Nina   7500000.0\n",
      "4  A005    Mrs. Amy   3850500.0\n"
     ]
    }
   ],
   "source": [
    "#Task 9 Add the cost of all projects for each Employee and save it in new dataframe “TotalProjCost” with three columns ID, First Name, and Total cost\n",
    "\n",
    "# Group by 'ID' and 'First Name' to calculate total project cost\n",
    "total_proj_cost = final_df.groupby(['ID', 'First Name'])['Cost'].sum().reset_index()\n",
    "total_proj_cost.rename(columns={'Cost': 'Total Cost'}, inplace=True)\n",
    "\n",
    "# Save and display the Total Project Cost DataFrame\n",
    "total_proj_cost.to_csv('total_proj_cost.csv', index=False)\n",
    "print(total_proj_cost)"
   ]
  },
  {
   "cell_type": "code",
   "execution_count": 50,
   "id": "d5c1ba9c-fb94-432a-bbbe-88cece107f53",
   "metadata": {},
   "outputs": [
    {
     "name": "stdout",
     "output_type": "stream",
     "text": [
      "      ID     Project       Cost   Status      City  Age  First Name  \\\n",
      "1   A002   Project 2  2000000.0  Ongoing    London   27  Mrs. Alice   \n",
      "3   A004   Project 4  5500000.0  Ongoing  New York   31   Mrs. Nina   \n",
      "10  A004  Project 11  2000000.0   Failed  New York   31   Mrs. Nina   \n",
      "11  A002  Project 12  1000000.0  Ongoing    London   27  Mrs. Alice   \n",
      "\n",
      "    Last Name  Designation Level  Bonus  \n",
      "1   Luxumberg                  2    0.0  \n",
      "3       Adgra                 -2    0.0  \n",
      "10      Adgra                  3    0.0  \n",
      "11  Luxumberg                  2    0.0  \n"
     ]
    }
   ],
   "source": [
    "#Task 10 Print all the employee details whose city name contains the letter “o” in it.\n",
    "employees_with_o = final_df[final_df['City'].str.contains('o', case=False)]\n",
    "\n",
    "# Save and display the filtered DataFrame\n",
    "employees_with_o.to_csv('employees_with_o.csv', index=False)\n",
    "print(employees_with_o)"
   ]
  },
  {
   "cell_type": "code",
   "execution_count": null,
   "id": "58a3d697-f508-43dd-b88d-15dd5aa076f2",
   "metadata": {},
   "outputs": [],
   "source": []
  }
 ],
 "metadata": {
  "kernelspec": {
   "display_name": "Python [conda env:base] *",
   "language": "python",
   "name": "conda-base-py"
  },
  "language_info": {
   "codemirror_mode": {
    "name": "ipython",
    "version": 3
   },
   "file_extension": ".py",
   "mimetype": "text/x-python",
   "name": "python",
   "nbconvert_exporter": "python",
   "pygments_lexer": "ipython3",
   "version": "3.12.7"
  }
 },
 "nbformat": 4,
 "nbformat_minor": 5
}
